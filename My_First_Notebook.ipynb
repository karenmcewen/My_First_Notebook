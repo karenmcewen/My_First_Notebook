{
 "cells": [
  {
   "cell_type": "code",
   "execution_count": 1,
   "metadata": {},
   "outputs": [
    {
     "data": {
      "text/plain": [
       "2"
      ]
     },
     "execution_count": 1,
     "metadata": {},
     "output_type": "execute_result"
    }
   ],
   "source": [
    "1+1"
   ]
  },
  {
   "cell_type": "markdown",
   "metadata": {},
   "source": [
    "My markdown cell is awesome!"
   ]
  },
  {
   "cell_type": "code",
   "execution_count": 1,
   "metadata": {},
   "outputs": [
    {
     "data": {
      "text/plain": [
       "120"
      ]
     },
     "execution_count": 1,
     "metadata": {},
     "output_type": "execute_result"
    }
   ],
   "source": [
    "12*10"
   ]
  },
  {
   "cell_type": "markdown",
   "metadata": {},
   "source": [
    "<a href=https://www.cognitiveclass.ai>Cognitive Class</a>"
   ]
  },
  {
   "cell_type": "markdown",
   "metadata": {},
   "source": [
    "# Header 1  - the number of pound signs determines the header size"
   ]
  },
  {
   "cell_type": "markdown",
   "metadata": {},
   "source": [
    "https://github.com/adam-p/markdown-here/wiki/Markdown-Cheatsheet"
   ]
  },
  {
   "cell_type": "markdown",
   "metadata": {},
   "source": [
    "#### Assignment - Using only Markdown, try creating a table, a list of shopping items, and try embedding an image."
   ]
  },
  {
   "cell_type": "markdown",
   "metadata": {},
   "source": [
    "#### Table practice - pipes separate the columns"
   ]
  },
  {
   "cell_type": "markdown",
   "metadata": {},
   "source": [
    "Tables | Are | Cool\n",
    "--- | --- | ---\n",
    "first row | is | white\n",
    "second row | is | gray\n",
    "third row | is | white"
   ]
  },
  {
   "cell_type": "markdown",
   "metadata": {},
   "source": [
    "There must be at least 3 dashes separating each header cell.\n",
    "The outer pipes (|) are optional, and you don't need to make the \n",
    "raw Markdown line up prettily. You can also use inline Markdown.\n",
    "\n",
    "Markdown | Less | Pretty\n",
    "--- | --- | ---\n",
    "*Still* | `renders` | **nicely**\n",
    "1 | 2 | 3"
   ]
  },
  {
   "cell_type": "markdown",
   "metadata": {},
   "source": [
    "#### list of shopping items"
   ]
  },
  {
   "cell_type": "markdown",
   "metadata": {},
   "source": [
    "1. First ordered list item\n",
    "2. Another item\n",
    "    * Unordered sub-list. \n",
    "1. Actual numbers don't matter, just that it's a number\n",
    "    1. Ordered sub-list\n",
    "4. And another item.\n",
    "\n",
    "    You can have properly indented paragraphs within list items. Notice the blank line above, and the leading spaces (at least one, but we'll use three here to also align the raw Markdown).\n",
    "\n",
    "    To have a line break without a paragraph, you will need to use two trailing spaces.  \n",
    "    Note that this line is separate, but within the same paragraph.  \n",
    "    (This is contrary to the typical GFM line break behaviour, where trailing spaces are not required.)\n"
   ]
  },
  {
   "cell_type": "markdown",
   "metadata": {},
   "source": [
    "#### Ordered list - you can use any numbers and it will order correctly. Use tabs to create indented list"
   ]
  },
  {
   "cell_type": "markdown",
   "metadata": {},
   "source": [
    "1. coffee\n",
    "2. milk\n",
    "3. cereals\n",
    "    1. cheerios\n",
    "    2. life\n",
    "    3. count chocula\n",
    "4. bananas"
   ]
  },
  {
   "cell_type": "markdown",
   "metadata": {},
   "source": [
    "#### Unordered List"
   ]
  },
  {
   "cell_type": "markdown",
   "metadata": {},
   "source": [
    "* Unordered list can use asterisks (*)\n",
    "- Or minuses (-)\n",
    "+ Or pluses (*)"
   ]
  },
  {
   "cell_type": "markdown",
   "metadata": {},
   "source": [
    "* milk\n",
    "- fruit\n",
    "    - apple\n",
    "    - banana\n",
    "+ butter"
   ]
  },
  {
   "cell_type": "markdown",
   "metadata": {},
   "source": [
    "#### Embedding an image"
   ]
  },
  {
   "cell_type": "markdown",
   "metadata": {},
   "source": [
    "You can attach image files directly to a notebook in Markdown cells by dragging and dropping it into a MARKDOWN cell."
   ]
  },
  {
   "attachments": {
    "duck1.jpg": {
     "image/jpeg": "[encoded data removed]"
    }
   },
   "cell_type": "markdown",
   "metadata": {},
   "source": [
    "![duck1.jpg](attachment:duck1.jpg)"
   ]
  },
  {
   "cell_type": "markdown",
   "metadata": {},
   "source": [
    "To add images to other types of cells, you must use a graphic that is hosted on the web and use the following code to insert the graphic:"
   ]
  },
  {
   "cell_type": "markdown",
   "metadata": {},
   "source": [
    "<img src=\"https://cdn.pixabay.com/photo/2015/04/23/21/59/tree-736877_1280.jpg\" alt=\"A black cat in front of the moon\" title=\"Title text\" />"
   ]
  },
  {
   "cell_type": "code",
   "execution_count": null,
   "metadata": {},
   "outputs": [],
   "source": []
  }
 ],
 "metadata": {
  "kernelspec": {
   "display_name": "Python",
   "language": "python",
   "name": "conda-env-python-py"
  },
  "language_info": {
   "codemirror_mode": {
    "name": "ipython",
    "version": 3
   },
   "file_extension": ".py",
   "mimetype": "text/x-python",
   "name": "python",
   "nbconvert_exporter": "python",
   "pygments_lexer": "ipython3",
   "version": "3.6.7"
  }
 },
 "nbformat": 4,
 "nbformat_minor": 4
}
